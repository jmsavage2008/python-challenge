{
 "cells": [
  {
   "cell_type": "code",
   "execution_count": 36,
   "id": "2b24f99c",
   "metadata": {},
   "outputs": [
    {
     "name": "stdout",
     "output_type": "stream",
     "text": [
      "Election Results\n",
      "--------------------------------------\n",
      "Total Votes: 369711\n",
      "--------------------------------------\n",
      "Charles Casper Stockham: 23.049% (85213)\n",
      "Diana DeGette: 73.812% (272892)\n",
      "Raymon Anthony Doane\": 3.139$ (11606)\n",
      "--------------------------------------\n",
      "Winner: Diana DeGette\n"
     ]
    }
   ],
   "source": [
    "# Dependencies\n",
    "import os\n",
    "import csv\n",
    "\n",
    "csvpath = os.path.join('Resources', 'election_data.csv')\n",
    "\n",
    "#Open CSV file\n",
    "with open(csvpath) as csvfile:\n",
    "    \n",
    "    #Specify delimiter and hold contents\n",
    "    csvreader=csv.reader(csvfile, delimiter=\",\")\n",
    "    \n",
    "    #Define Variables\n",
    "    csv_header = next(csvreader)\n",
    "    total_votes = 0\n",
    "    total_votes_1 = 0\n",
    "    total_votes_2 = 0\n",
    "    total_votes_3 = 0\n",
    "    \n",
    "    #Count the number of rows + 1\n",
    "    for row in csvreader:\n",
    "        \n",
    "        #Total months variable\n",
    "        total_votes = total_votes + 1\n",
    "        \n",
    "        #Conditional for each candidate\n",
    "        if row[2] == \"Charles Casper Stockham\":\n",
    "        \n",
    "            total_votes_1 = total_votes_1 + 1\n",
    "            \n",
    "        elif row[2] == \"Diana DeGette\":\n",
    "            \n",
    "            total_votes_2 = total_votes_2 + 1\n",
    "            \n",
    "        elif row[2] == \"Raymon Anthony Doane\":\n",
    "            \n",
    "            total_votes_3 = total_votes_3 + 1\n",
    "    \n",
    "    #Find percent of each candidate        \n",
    "    total_percent_1 = round(total_votes_1 / total_votes * 100,3)\n",
    "    total_percent_2 = round(total_votes_2 / total_votes * 100, 3)\n",
    "    total_percent_3 = round(total_votes_3 / total_votes * 100, 3)\n",
    "    \n",
    "    #Contiditional to find the winner\n",
    "    if total_votes_1 > total_votes_2 and total_votes_1 > total_votes_3:\n",
    "                winner = \"Charles Casper Stockham\"\n",
    "    elif total_votes_2 > total_votes_3 and total_votes_2 > total_votes_1:\n",
    "                winner = \"Diana DeGette\"\n",
    "    elif total_votes_3 > total_votes_1 and total_votes_3 > total_votes_2:\n",
    "                winner = \"Raymon Anthony Doane\"\n",
    "    \n",
    "    \n",
    "    #Find percent of each candidate        \n",
    "    total_percent_1 = round(total_votes_1 / total_votes * 100,3)\n",
    "    total_percent_2 = round(total_votes_2 / total_votes * 100, 3)\n",
    "    total_percent_3 = round(total_votes_3 / total_votes * 100, 3)\n",
    "            \n",
    "        \n",
    "\n",
    "#Print Results\n",
    "print(\"Election Results\")\n",
    "print(\"--------------------------------------\")\n",
    "print(f'Total Votes: {total_votes}')\n",
    "print(\"--------------------------------------\")\n",
    "print(f'Charles Casper Stockham: {total_percent_1}% ({total_votes_1})')\n",
    "print(f'Diana DeGette: {total_percent_2}% ({total_votes_2})')\n",
    "print(f'Raymon Anthony Doane\": {total_percent_3}$ ({total_votes_3})')\n",
    "print(\"--------------------------------------\")\n",
    "print(f'Winner: {winner}')"
   ]
  },
  {
   "cell_type": "code",
   "execution_count": null,
   "id": "a6f25ff1",
   "metadata": {},
   "outputs": [],
   "source": [
    "it one candidate bigger than other, then say winner"
   ]
  },
  {
   "cell_type": "code",
   "execution_count": null,
   "id": "8d67a377",
   "metadata": {},
   "outputs": [],
   "source": []
  }
 ],
 "metadata": {
  "kernelspec": {
   "display_name": "Python 3 (ipykernel)",
   "language": "python",
   "name": "python3"
  },
  "language_info": {
   "codemirror_mode": {
    "name": "ipython",
    "version": 3
   },
   "file_extension": ".py",
   "mimetype": "text/x-python",
   "name": "python",
   "nbconvert_exporter": "python",
   "pygments_lexer": "ipython3",
   "version": "3.11.5"
  }
 },
 "nbformat": 4,
 "nbformat_minor": 5
}
