{
 "cells": [
  {
   "cell_type": "code",
   "execution_count": 175,
   "id": "38fca3a2",
   "metadata": {},
   "outputs": [
    {
     "name": "stdout",
     "output_type": "stream",
     "text": [
      "Total Months: 86\n",
      "Total Profit: $22564198\n",
      "Average Change: $-8311.11\n",
      "Greatest Increase in Profits: Aug-16 ($1862002)\n",
      "Greatest Decrease in Profits: Feb-14 ($-1825558)\n"
     ]
    }
   ],
   "source": [
    "#Dependencies\n",
    "import os\n",
    "import csv\n",
    "\n",
    "csvpath = os.path.join(\"Resources\",\"budget_data.csv\")\n",
    "\n",
    "#Deteles txt file if script was already run\n",
    "if os.path.isfile(\"pybankresults.txt\"):\n",
    "    os.remove('pybankresults.txt')\n",
    "    \n",
    "    \n",
    "# Open csv file\n",
    "with open(csvpath) as csvfile:\n",
    "    \n",
    "    #Specify delimiter and hold contents\n",
    "    csvreader = csv.reader(csvfile, delimiter = ',')\n",
    "    \n",
    "    #Define Variables\n",
    "    csv_header = next(csvreader)\n",
    "    total_months = 0\n",
    "    total_profit = 0\n",
    "    total_change = 0\n",
    "    last_month = 0\n",
    "    max_change = 0\n",
    "    min_change = 0\n",
    "    \n",
    "    #Create a list for total change\n",
    "    change = []\n",
    "    \n",
    "    \n",
    "    #Count the number of rows + 1\n",
    "    for row in csvreader:\n",
    "        \n",
    "        #Total months variable\n",
    "        total_months = total_months + 1 \n",
    "      \n",
    "        #Total profit variable\n",
    "        total_profit = int(row[1]) + total_profit\n",
    "        \n",
    "        #Total Monthly Change\n",
    "        monthly_change = int(row[1]) - last_month \n",
    "        \n",
    "        #Add change to a list\n",
    "        last_month = int(row[1])\n",
    "        change.append(monthly_change)\n",
    "        \n",
    "        #Conditional to find maximum change\n",
    "        if monthly_change > max_change:\n",
    "            max_change = monthly_change\n",
    "            max_month = row[0]\n",
    "\n",
    "        if monthly_change < min_change:\n",
    "            min_change = monthly_change\n",
    "            min_month = row[0]\n",
    "    \n",
    "    \n",
    "#Remove first item from change list       \n",
    "change.pop(0)\n",
    "\n",
    "\n",
    "#Define average function\n",
    "def average(change_list):\n",
    "        length = len(change_list)\n",
    "        total = 0\n",
    "        for row in change_list:\n",
    "            total = total + row\n",
    "        return total / length   \n",
    "\n",
    "#Define Average as variable\n",
    "\n",
    "average_change = round(average(change),2)\n",
    "\n",
    "# Print variables outside of loop\n",
    "print(f'Total Months: {total_months}')\n",
    "print(f'Total Profit: ${total_profit}')\n",
    "print(f'Average Change: ${average_change}')\n",
    "print(f'Greatest Increase in Profits: {max_month} (${max_change})')\n",
    "print(f'Greatest Decrease in Profits: {min_month} (${min_change})')\n",
    "\n",
    "#Export to file\n",
    "f = open(\"pybankresults.txt\", \"x\")\n",
    "f = open('pybankresults.txt','a')\n",
    "f.write(\"Pybank Results:\\n\")\n",
    "f.write(f'Total Months: {total_months}\\n')\n",
    "f.write(f'Total Profit: ${total_profit}\\n')\n",
    "f.write(f'Average Change: ${average_change}\\n')\n",
    "f.write(f'Greatest Increase in Profits: {max_month} (${max_change})\\n')\n",
    "f.write(f'Greatest Decrease in Profits: {min_month} (${min_change})\\n')\n",
    "f.close()"
   ]
  },
  {
   "cell_type": "code",
   "execution_count": null,
   "id": "13cef841",
   "metadata": {},
   "outputs": [],
   "source": [
    "    \n",
    "    \n"
   ]
  },
  {
   "cell_type": "code",
   "execution_count": null,
   "id": "fa5237b6",
   "metadata": {},
   "outputs": [],
   "source": [
    "    "
   ]
  },
  {
   "cell_type": "code",
   "execution_count": 72,
   "id": "825bbeaa",
   "metadata": {},
   "outputs": [],
   "source": []
  },
  {
   "cell_type": "code",
   "execution_count": null,
   "id": "7af156dd",
   "metadata": {},
   "outputs": [],
   "source": []
  },
  {
   "cell_type": "code",
   "execution_count": null,
   "id": "48a2d36e",
   "metadata": {},
   "outputs": [],
   "source": []
  }
 ],
 "metadata": {
  "kernelspec": {
   "display_name": "Python 3 (ipykernel)",
   "language": "python",
   "name": "python3"
  },
  "language_info": {
   "codemirror_mode": {
    "name": "ipython",
    "version": 3
   },
   "file_extension": ".py",
   "mimetype": "text/x-python",
   "name": "python",
   "nbconvert_exporter": "python",
   "pygments_lexer": "ipython3",
   "version": "3.11.5"
  }
 },
 "nbformat": 4,
 "nbformat_minor": 5
}
