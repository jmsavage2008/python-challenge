{
 "cells": [
  {
   "cell_type": "code",
   "execution_count": 45,
   "id": "fbe909fe",
   "metadata": {},
   "outputs": [],
   "source": [
    "import os\n",
    "import csv\n"
   ]
  },
  {
   "cell_type": "code",
   "execution_count": 47,
   "id": "07c8889d",
   "metadata": {},
   "outputs": [],
   "source": [
    "csvpath = os.path.join(\"Resources\",\"budget_data.csv\")"
   ]
  },
  {
   "cell_type": "code",
   "execution_count": 60,
   "id": "e874a292",
   "metadata": {},
   "outputs": [
    {
     "ename": "ValueError",
     "evalue": "invalid mode: 'budget_data.csv'",
     "output_type": "error",
     "traceback": [
      "\u001b[0;31m---------------------------------------------------------------------------\u001b[0m",
      "\u001b[0;31mValueError\u001b[0m                                Traceback (most recent call last)",
      "Cell \u001b[0;32mIn[60], line 2\u001b[0m\n\u001b[1;32m      1\u001b[0m \u001b[38;5;28;01mimport\u001b[39;00m \u001b[38;5;21;01mcsv\u001b[39;00m\n\u001b[0;32m----> 2\u001b[0m \u001b[38;5;28;01mwith\u001b[39;00m \u001b[38;5;28mopen\u001b[39m(\u001b[38;5;124m'\u001b[39m\u001b[38;5;124mResources\u001b[39m\u001b[38;5;124m'\u001b[39m,\u001b[38;5;124m'\u001b[39m\u001b[38;5;124mbudget_data.csv\u001b[39m\u001b[38;5;124m'\u001b[39m) \u001b[38;5;28;01mas\u001b[39;00m f:\n\u001b[1;32m      3\u001b[0m     data \u001b[38;5;241m=\u001b[39m \u001b[38;5;28mlist\u001b[39m(csv\u001b[38;5;241m.\u001b[39mreader(f))\n",
      "File \u001b[0;32m~/anaconda3/lib/python3.11/site-packages/IPython/core/interactiveshell.py:286\u001b[0m, in \u001b[0;36m_modified_open\u001b[0;34m(file, *args, **kwargs)\u001b[0m\n\u001b[1;32m    279\u001b[0m \u001b[38;5;28;01mif\u001b[39;00m file \u001b[38;5;129;01min\u001b[39;00m {\u001b[38;5;241m0\u001b[39m, \u001b[38;5;241m1\u001b[39m, \u001b[38;5;241m2\u001b[39m}:\n\u001b[1;32m    280\u001b[0m     \u001b[38;5;28;01mraise\u001b[39;00m \u001b[38;5;167;01mValueError\u001b[39;00m(\n\u001b[1;32m    281\u001b[0m         \u001b[38;5;124mf\u001b[39m\u001b[38;5;124m\"\u001b[39m\u001b[38;5;124mIPython won\u001b[39m\u001b[38;5;124m'\u001b[39m\u001b[38;5;124mt let you open fd=\u001b[39m\u001b[38;5;132;01m{\u001b[39;00mfile\u001b[38;5;132;01m}\u001b[39;00m\u001b[38;5;124m by default \u001b[39m\u001b[38;5;124m\"\u001b[39m\n\u001b[1;32m    282\u001b[0m         \u001b[38;5;124m\"\u001b[39m\u001b[38;5;124mas it is likely to crash IPython. If you know what you are doing, \u001b[39m\u001b[38;5;124m\"\u001b[39m\n\u001b[1;32m    283\u001b[0m         \u001b[38;5;124m\"\u001b[39m\u001b[38;5;124myou can use builtins\u001b[39m\u001b[38;5;124m'\u001b[39m\u001b[38;5;124m open.\u001b[39m\u001b[38;5;124m\"\u001b[39m\n\u001b[1;32m    284\u001b[0m     )\n\u001b[0;32m--> 286\u001b[0m \u001b[38;5;28;01mreturn\u001b[39;00m io_open(file, \u001b[38;5;241m*\u001b[39margs, \u001b[38;5;241m*\u001b[39m\u001b[38;5;241m*\u001b[39mkwargs)\n",
      "\u001b[0;31mValueError\u001b[0m: invalid mode: 'budget_data.csv'"
     ]
    }
   ],
   "source": [
    "import csv\n",
    "with open('Resources','budget_data.csv') as f:\n",
    "    data = list(csv.reader(f))\n"
   ]
  },
  {
   "cell_type": "code",
   "execution_count": 90,
   "id": "3a6cc092",
   "metadata": {},
   "outputs": [
    {
     "name": "stdout",
     "output_type": "stream",
     "text": [
      "[-1088983, 1443517, -631156, 1004755, -1581126, 289272, 1098929, -1167557, 806093, -1124485, 1736491, 408383, -604557, 294345, -1327485, -394323, -243585, 617439, 1530577, -1390390, 1130397, -1293604, -641758, 337413, 52031, 937192, -863841, 76245, 100481, 960729, -591856, -54930, -680102, 250254, 840415, -582358, 48628, 135256, -978586, 599210, 442789, -652924, 1005714, -1167373, 234900, 165147, 52275, 302320, -719028, 1825558, -1287083, 48303, -210234, 236414, -585165, 1400632, -839777, -465229, -317811, 760202, 71868, -795457, 182685, 1242836, -1371884, 445193, -10025, 1043998, -1350395, -80538, 1223250, -104148, -843924, 1808664, -1505005, -306402, 143603, 1266937, 162519, -1862002, 52986, 1627245, -616795, -628522, -90895, 224669]\n",
      "Total Months: 86\n",
      "Total Profit: $22564198\n",
      "Average: 224669\n"
     ]
    }
   ],
   "source": [
    "# Open csv file\n",
    "with open(csvpath) as csvfile:\n",
    "    \n",
    "    #Specify delimiter and hold contents\n",
    "    csvreader = csv.reader(csvfile, delimiter = ',')\n",
    "    \n",
    "    #Define Variables\n",
    "    csv_header = next(csvreader)\n",
    "    total_months = 0\n",
    "    total_profit = 0\n",
    "    total_change = 0\n",
    "    last_month = 0\n",
    "    \n",
    "    #Create a list for total change\n",
    "    change = []\n",
    "    \n",
    "    \n",
    "    #Count the number of rows + 1\n",
    "    for row in csvreader:\n",
    "        \n",
    "        #Total months vairable\n",
    "        total_months = total_months + 1 \n",
    "      \n",
    "        #Total profit variable\n",
    "        total_profit = int(row[1]) + total_profit\n",
    "        \n",
    "       #Total Monthly Change\n",
    "        monthly_change = last_month - int(row[1])\n",
    "        \n",
    "        last_month = int(row[1])\n",
    "        change.append(monthly_change)\n",
    "        \n",
    "        \n",
    "        \n",
    "print(change)\n",
    "# Print variables outside of loop\n",
    "\n",
    "print(f'Total Months: {total_months}')\n",
    "print(f'Total Profit: ${total_profit}')\n",
    "print(f'Average: {monthly_change}')\n"
   ]
  },
  {
   "cell_type": "code",
   "execution_count": null,
   "id": "91ade12c",
   "metadata": {},
   "outputs": [],
   "source": [
    "    \n",
    "    \n"
   ]
  },
  {
   "cell_type": "code",
   "execution_count": null,
   "id": "b074213f",
   "metadata": {},
   "outputs": [],
   "source": [
    "    "
   ]
  },
  {
   "cell_type": "code",
   "execution_count": 72,
   "id": "65d0c26e",
   "metadata": {},
   "outputs": [],
   "source": []
  },
  {
   "cell_type": "code",
   "execution_count": null,
   "id": "9f9a477b",
   "metadata": {},
   "outputs": [],
   "source": []
  },
  {
   "cell_type": "code",
   "execution_count": null,
   "id": "413e1518",
   "metadata": {},
   "outputs": [],
   "source": []
  }
 ],
 "metadata": {
  "kernelspec": {
   "display_name": "Python 3 (ipykernel)",
   "language": "python",
   "name": "python3"
  },
  "language_info": {
   "codemirror_mode": {
    "name": "ipython",
    "version": 3
   },
   "file_extension": ".py",
   "mimetype": "text/x-python",
   "name": "python",
   "nbconvert_exporter": "python",
   "pygments_lexer": "ipython3",
   "version": "3.11.5"
  }
 },
 "nbformat": 4,
 "nbformat_minor": 5
}
