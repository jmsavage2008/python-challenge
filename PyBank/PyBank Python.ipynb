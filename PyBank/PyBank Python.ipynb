{
 "cells": [
  {
   "cell_type": "code",
   "execution_count": 45,
   "id": "99c7e0c2",
   "metadata": {},
   "outputs": [],
   "source": [
    "import os\n",
    "import csv\n"
   ]
  },
  {
   "cell_type": "code",
   "execution_count": 47,
   "id": "8ef5a5a2",
   "metadata": {},
   "outputs": [],
   "source": [
    "csvpath = os.path.join(\"Resources\",\"budget_data.csv\")"
   ]
  },
  {
   "cell_type": "code",
   "execution_count": 60,
   "id": "bb3870e7",
   "metadata": {},
   "outputs": [
    {
     "ename": "ValueError",
     "evalue": "invalid mode: 'budget_data.csv'",
     "output_type": "error",
     "traceback": [
      "\u001b[0;31m---------------------------------------------------------------------------\u001b[0m",
      "\u001b[0;31mValueError\u001b[0m                                Traceback (most recent call last)",
      "Cell \u001b[0;32mIn[60], line 2\u001b[0m\n\u001b[1;32m      1\u001b[0m \u001b[38;5;28;01mimport\u001b[39;00m \u001b[38;5;21;01mcsv\u001b[39;00m\n\u001b[0;32m----> 2\u001b[0m \u001b[38;5;28;01mwith\u001b[39;00m \u001b[38;5;28mopen\u001b[39m(\u001b[38;5;124m'\u001b[39m\u001b[38;5;124mResources\u001b[39m\u001b[38;5;124m'\u001b[39m,\u001b[38;5;124m'\u001b[39m\u001b[38;5;124mbudget_data.csv\u001b[39m\u001b[38;5;124m'\u001b[39m) \u001b[38;5;28;01mas\u001b[39;00m f:\n\u001b[1;32m      3\u001b[0m     data \u001b[38;5;241m=\u001b[39m \u001b[38;5;28mlist\u001b[39m(csv\u001b[38;5;241m.\u001b[39mreader(f))\n",
      "File \u001b[0;32m~/anaconda3/lib/python3.11/site-packages/IPython/core/interactiveshell.py:286\u001b[0m, in \u001b[0;36m_modified_open\u001b[0;34m(file, *args, **kwargs)\u001b[0m\n\u001b[1;32m    279\u001b[0m \u001b[38;5;28;01mif\u001b[39;00m file \u001b[38;5;129;01min\u001b[39;00m {\u001b[38;5;241m0\u001b[39m, \u001b[38;5;241m1\u001b[39m, \u001b[38;5;241m2\u001b[39m}:\n\u001b[1;32m    280\u001b[0m     \u001b[38;5;28;01mraise\u001b[39;00m \u001b[38;5;167;01mValueError\u001b[39;00m(\n\u001b[1;32m    281\u001b[0m         \u001b[38;5;124mf\u001b[39m\u001b[38;5;124m\"\u001b[39m\u001b[38;5;124mIPython won\u001b[39m\u001b[38;5;124m'\u001b[39m\u001b[38;5;124mt let you open fd=\u001b[39m\u001b[38;5;132;01m{\u001b[39;00mfile\u001b[38;5;132;01m}\u001b[39;00m\u001b[38;5;124m by default \u001b[39m\u001b[38;5;124m\"\u001b[39m\n\u001b[1;32m    282\u001b[0m         \u001b[38;5;124m\"\u001b[39m\u001b[38;5;124mas it is likely to crash IPython. If you know what you are doing, \u001b[39m\u001b[38;5;124m\"\u001b[39m\n\u001b[1;32m    283\u001b[0m         \u001b[38;5;124m\"\u001b[39m\u001b[38;5;124myou can use builtins\u001b[39m\u001b[38;5;124m'\u001b[39m\u001b[38;5;124m open.\u001b[39m\u001b[38;5;124m\"\u001b[39m\n\u001b[1;32m    284\u001b[0m     )\n\u001b[0;32m--> 286\u001b[0m \u001b[38;5;28;01mreturn\u001b[39;00m io_open(file, \u001b[38;5;241m*\u001b[39margs, \u001b[38;5;241m*\u001b[39m\u001b[38;5;241m*\u001b[39mkwargs)\n",
      "\u001b[0;31mValueError\u001b[0m: invalid mode: 'budget_data.csv'"
     ]
    }
   ],
   "source": [
    "import csv\n",
    "with open('Resources','budget_data.csv') as f:\n",
    "    data = list(csv.reader(f))\n"
   ]
  },
  {
   "cell_type": "code",
   "execution_count": 169,
   "id": "e71a49aa",
   "metadata": {},
   "outputs": [
    {
     "name": "stdout",
     "output_type": "stream",
     "text": [
      "Total Months: 86\n",
      "Total Profit: $22564198\n",
      "Average Change: $-8311.11\n",
      "Greatest Increase in Profits: Aug-16 ($1862002)\n",
      "Greatest Decrease in Profits: Feb-14 ($-1825558)\n"
     ]
    }
   ],
   "source": [
    "# Open csv file\n",
    "with open(csvpath) as csvfile:\n",
    "    \n",
    "    #Specify delimiter and hold contents\n",
    "    csvreader = csv.reader(csvfile, delimiter = ',')\n",
    "    \n",
    "    #Define Variables\n",
    "    csv_header = next(csvreader)\n",
    "    total_months = 0\n",
    "    total_profit = 0\n",
    "    total_change = 0\n",
    "    last_month = 0\n",
    "    max_change = 0\n",
    "    min_change = 0\n",
    "    \n",
    "    #Create a list for total change\n",
    "    change = []\n",
    "    \n",
    "    \n",
    "    #Count the number of rows + 1\n",
    "    for row in csvreader:\n",
    "        \n",
    "        #Total months vairable\n",
    "        total_months = total_months + 1 \n",
    "      \n",
    "        #Total profit variable\n",
    "        total_profit = int(row[1]) + total_profit\n",
    "        \n",
    "        #Total Monthly Change\n",
    "        monthly_change = int(row[1]) - last_month \n",
    "        \n",
    "        #Add change to a list\n",
    "        last_month = int(row[1])\n",
    "        change.append(monthly_change)\n",
    "        \n",
    "        #Conditional to find maximum change\n",
    "        if monthly_change > max_change:\n",
    "            max_change = monthly_change\n",
    "            max_month = row[0]\n",
    "\n",
    "        if monthly_change < min_change:\n",
    "            min_change = monthly_change\n",
    "            min_month = row[0]\n",
    "    \n",
    "    \n",
    "#Remove first item from change list       \n",
    "change.pop(0)\n",
    "\n",
    "\n",
    "#Define average function\n",
    "def average(change_list):\n",
    "        length = len(change_list)\n",
    "        total = 0\n",
    "        for row in change_list:\n",
    "            total = total + row\n",
    "        return total / length   \n",
    "\n",
    "#Define Average as variable\n",
    "\n",
    "average_change = round(average(change),2)\n",
    "\n",
    "# Print variables outside of loop\n",
    "print(f'Total Months: {total_months}')\n",
    "print(f'Total Profit: ${total_profit}')\n",
    "print(f'Average Change: ${average_change}')\n",
    "print(f'Greatest Increase in Profits: {max_month} (${max_change})')\n",
    "print(f'Greatest Decrease in Profits: {min_month} (${min_change})')\n",
    "\n",
    "f = open(\"pybankresults.txt\", \"x\")\n",
    "f = open('pybankresults.txt','a')\n",
    "f.write(\"Pybank Results:\\n\")\n",
    "f.write(f'Total Months: {total_months}\\n')\n",
    "f.write(f'Total Profit: ${total_profit}\\n')\n",
    "f.write(f'Average Change: ${average_change}\\n')\n",
    "f.write(f'Greatest Increase in Profits: {max_month} (${max_change})\\n')\n",
    "f.write(f'Greatest Decrease in Profits: {min_month} (${min_change})\\n')\n",
    "f.close()"
   ]
  },
  {
   "cell_type": "code",
   "execution_count": null,
   "id": "edce8e42",
   "metadata": {},
   "outputs": [],
   "source": [
    "    \n",
    "    \n"
   ]
  },
  {
   "cell_type": "code",
   "execution_count": null,
   "id": "fa397b3f",
   "metadata": {},
   "outputs": [],
   "source": [
    "    "
   ]
  },
  {
   "cell_type": "code",
   "execution_count": 72,
   "id": "4fb1889e",
   "metadata": {},
   "outputs": [],
   "source": []
  },
  {
   "cell_type": "code",
   "execution_count": null,
   "id": "68c5e0c8",
   "metadata": {},
   "outputs": [],
   "source": []
  },
  {
   "cell_type": "code",
   "execution_count": null,
   "id": "5d797d27",
   "metadata": {},
   "outputs": [],
   "source": []
  }
 ],
 "metadata": {
  "kernelspec": {
   "display_name": "Python 3 (ipykernel)",
   "language": "python",
   "name": "python3"
  },
  "language_info": {
   "codemirror_mode": {
    "name": "ipython",
    "version": 3
   },
   "file_extension": ".py",
   "mimetype": "text/x-python",
   "name": "python",
   "nbconvert_exporter": "python",
   "pygments_lexer": "ipython3",
   "version": "3.11.5"
  }
 },
 "nbformat": 4,
 "nbformat_minor": 5
}
